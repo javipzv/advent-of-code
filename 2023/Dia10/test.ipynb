{
 "cells": [
  {
   "cell_type": "code",
   "execution_count": 20,
   "metadata": {},
   "outputs": [],
   "source": [
    "def merge_consecutives(lista_posiciones):\n",
    "    posiciones_result = []\n",
    "    consecutive = False\n",
    "    for i in range(len(lista_posiciones)-1):\n",
    "        if consecutive:\n",
    "            if (not (abs(lista_posiciones[i][1] - lista_posiciones[i+1][1]) == 1)):\n",
    "                consecutive = False\n",
    "                posiciones_result += [lista_posiciones[i]]\n",
    "        else:\n",
    "            if abs(lista_posiciones[i][1] - lista_posiciones[i+1][1]) == 1:\n",
    "                consecutive = True\n",
    "                posiciones_result += [lista_posiciones[i]]\n",
    "            else:\n",
    "                posiciones_result += [lista_posiciones[i]]\n",
    "    return posiciones_result + [lista_posiciones[len(lista_posiciones)-1]]"
   ]
  },
  {
   "cell_type": "code",
   "execution_count": 42,
   "metadata": {},
   "outputs": [
    {
     "data": {
      "text/plain": [
       "[(3, 0), (3, 3), (3, 5), (3, 8), (3, 11), (3, 12)]"
      ]
     },
     "execution_count": 42,
     "metadata": {},
     "output_type": "execute_result"
    }
   ],
   "source": [
    "l = merge_consecutives([(3, 0), (3, 1), (3, 2), (3, 3), (3, 5), (3, 6), (3, 7), (3, 8), (3, 11), (3, 12)])\n",
    "l"
   ]
  },
  {
   "cell_type": "code",
   "execution_count": 31,
   "metadata": {},
   "outputs": [
    {
     "data": {
      "text/plain": [
       "7"
      ]
     },
     "execution_count": 31,
     "metadata": {},
     "output_type": "execute_result"
    }
   ],
   "source": [
    "total = 0\n",
    "for i in range(len(l)-1):\n",
    "    total += l[i+1][1]-l[i][1]-1\n",
    "total"
   ]
  },
  {
   "cell_type": "code",
   "execution_count": 45,
   "metadata": {},
   "outputs": [],
   "source": [
    "def get_inside_pos(lista_posiciones):\n",
    "    result = set()\n",
    "    for i in range(0, len(lista_posiciones)-1, 2):\n",
    "        for j in range(lista_posiciones[i][1], lista_posiciones[i+1][1]+1):\n",
    "            result.add((lista_posiciones[0][0], j))\n",
    "    return result"
   ]
  },
  {
   "cell_type": "code",
   "execution_count": 43,
   "metadata": {},
   "outputs": [
    {
     "data": {
      "text/plain": [
       "[(3, 0), (3, 3), (3, 5), (3, 8), (3, 11), (3, 12)]"
      ]
     },
     "execution_count": 43,
     "metadata": {},
     "output_type": "execute_result"
    }
   ],
   "source": [
    "l"
   ]
  },
  {
   "cell_type": "code",
   "execution_count": 46,
   "metadata": {},
   "outputs": [
    {
     "data": {
      "text/plain": [
       "{(3, 0),\n",
       " (3, 1),\n",
       " (3, 2),\n",
       " (3, 3),\n",
       " (3, 5),\n",
       " (3, 6),\n",
       " (3, 7),\n",
       " (3, 8),\n",
       " (3, 11),\n",
       " (3, 12)}"
      ]
     },
     "execution_count": 46,
     "metadata": {},
     "output_type": "execute_result"
    }
   ],
   "source": [
    "get_inside_pos(l)"
   ]
  }
 ],
 "metadata": {
  "kernelspec": {
   "display_name": "Python 3",
   "language": "python",
   "name": "python3"
  },
  "language_info": {
   "codemirror_mode": {
    "name": "ipython",
    "version": 3
   },
   "file_extension": ".py",
   "mimetype": "text/x-python",
   "name": "python",
   "nbconvert_exporter": "python",
   "pygments_lexer": "ipython3",
   "version": "3.9.6"
  }
 },
 "nbformat": 4,
 "nbformat_minor": 2
}
