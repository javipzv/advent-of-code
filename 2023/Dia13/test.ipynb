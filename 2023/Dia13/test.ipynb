{
 "cells": [
  {
   "cell_type": "code",
   "execution_count": 1,
   "metadata": {},
   "outputs": [],
   "source": [
    "import numpy as np"
   ]
  },
  {
   "cell_type": "code",
   "execution_count": null,
   "metadata": {},
   "outputs": [],
   "source": []
  },
  {
   "cell_type": "code",
   "execution_count": 105,
   "metadata": {},
   "outputs": [
    {
     "data": {
      "text/plain": [
       "array([[1, 0, 0, 0, 1, 1, 0, 0, 1],\n",
       "       [1, 0, 0, 0, 0, 1, 0, 0, 1],\n",
       "       [0, 0, 1, 1, 0, 0, 1, 1, 1],\n",
       "       [1, 1, 1, 1, 1, 0, 1, 1, 0],\n",
       "       [1, 1, 1, 1, 1, 0, 1, 1, 0],\n",
       "       [0, 0, 1, 1, 0, 0, 1, 1, 1],\n",
       "       [1, 0, 0, 0, 0, 1, 0, 0, 1]])"
      ]
     },
     "execution_count": 105,
     "metadata": {},
     "output_type": "execute_result"
    }
   ],
   "source": [
    "x=[[1, 0, 0, 0, 1, 1, 0, 0, 1], [1, 0, 0, 0, 0, 1, 0, 0, 1], [0, 0, 1, 1, 0, 0, 1, 1, 1], [1, 1, 1, 1, 1, 0, 1, 1, 0], [1, 1, 1, 1, 1, 0, 1, 1, 0], [0, 0, 1, 1, 0, 0, 1, 1, 1], [1, 0, 0, 0, 0, 1, 0, 0, 1]]\n",
    "y = np.hstack(x).reshape((len(x), len(x[0])))\n",
    "y"
   ]
  },
  {
   "cell_type": "code",
   "execution_count": 107,
   "metadata": {},
   "outputs": [
    {
     "data": {
      "text/plain": [
       "array([[1, 0, 0, 0, 1, 1, 0, 0, 1],\n",
       "       [1, 0, 0, 0, 0, 1, 0, 0, 1],\n",
       "       [0, 0, 1, 1, 0, 0, 1, 1, 1],\n",
       "       [1, 1, 1, 1, 1, 0, 1, 1, 0],\n",
       "       [1, 1, 1, 1, 1, 0, 1, 1, 0],\n",
       "       [0, 0, 1, 1, 0, 0, 1, 1, 1],\n",
       "       [1, 0, 0, 0, 0, 1, 0, 0, 1]])"
      ]
     },
     "execution_count": 107,
     "metadata": {},
     "output_type": "execute_result"
    }
   ],
   "source": [
    "x = [[1, 0, 0, 0, 1, 1, 0, 0, 1], [1, 0, 0, 0, 0, 1, 0, 0, 1], [0, 0, 1, 1, 0, 0, 1, 1, 1], [1, 1, 1, 1, 1, 0, 1, 1, 0], [1, 1, 1, 1, 1, 0, 1, 1, 0], [0, 0, 1, 1, 0, 0, 1, 1, 1], [1, 0, 0, 0, 0, 1, 0, 0, 1]]\n",
    "matrix = np.hstack(x).reshape((len(x), len(x[0])))\n",
    "matrix"
   ]
  },
  {
   "cell_type": "code",
   "execution_count": 48,
   "metadata": {},
   "outputs": [
    {
     "data": {
      "text/plain": [
       "array([[0, 1, 1, 0],\n",
       "       [1, 0, 0, 1],\n",
       "       [1, 1, 1, 1],\n",
       "       [0, 0, 0, 1]])"
      ]
     },
     "execution_count": 48,
     "metadata": {},
     "output_type": "execute_result"
    }
   ],
   "source": [
    "mat = np.array([[0, 1, 1, 0],\n",
    "               [1, 0, 0, 1],\n",
    "               [1, 1, 1, 1],\n",
    "               [0, 0, 0, 1]])\n",
    "mat"
   ]
  },
  {
   "cell_type": "code",
   "execution_count": 104,
   "metadata": {},
   "outputs": [],
   "source": [
    "def get_result(matrix):\n",
    "    for i in range(matrix.shape[1] - 1):\n",
    "        minimo = min(i, matrix.shape[1]-(i+2))\n",
    "        submatrix = matrix[:, i-minimo:i+2+minimo]\n",
    "        list_inverted = list(range(0, submatrix.shape[1]))\n",
    "        inverse_submatrix = submatrix[:, list_inverted[::-1]]\n",
    "        m = submatrix-inverse_submatrix\n",
    "        all_zeros = not np.any(m)\n",
    "        if all_zeros:\n",
    "            # filas_izq = \n",
    "            return i+1, 0\n",
    "    \n",
    "    for i in range(matrix.shape[0] - 1):\n",
    "        minimo = min(i, matrix.shape[0]-(i+2))\n",
    "        submatrix = matrix[i-minimo:i+2+minimo, :]\n",
    "        list_inverted = list(range(0, submatrix.shape[0]))\n",
    "        inverse_submatrix = submatrix[list_inverted[::-1], :]\n",
    "        m = submatrix-inverse_submatrix\n",
    "        all_zeros = not np.any(m)\n",
    "        if all_zeros:\n",
    "            return i+1, 1"
   ]
  },
  {
   "cell_type": "code",
   "execution_count": 108,
   "metadata": {},
   "outputs": [
    {
     "data": {
      "text/plain": [
       "(4, 1)"
      ]
     },
     "execution_count": 108,
     "metadata": {},
     "output_type": "execute_result"
    }
   ],
   "source": [
    "get_result(matrix)"
   ]
  }
 ],
 "metadata": {
  "kernelspec": {
   "display_name": "Python 3",
   "language": "python",
   "name": "python3"
  },
  "language_info": {
   "codemirror_mode": {
    "name": "ipython",
    "version": 3
   },
   "file_extension": ".py",
   "mimetype": "text/x-python",
   "name": "python",
   "nbconvert_exporter": "python",
   "pygments_lexer": "ipython3",
   "version": "3.9.6"
  }
 },
 "nbformat": 4,
 "nbformat_minor": 2
}
