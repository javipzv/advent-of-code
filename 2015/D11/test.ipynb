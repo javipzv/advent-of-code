{
 "cells": [
  {
   "cell_type": "code",
   "execution_count": 96,
   "metadata": {},
   "outputs": [
    {
     "name": "stdout",
     "output_type": "stream",
     "text": [
      "a a\n",
      "b b\n",
      "c c\n",
      "b c\n"
     ]
    },
    {
     "data": {
      "text/plain": [
       "True"
      ]
     },
     "execution_count": 96,
     "metadata": {},
     "output_type": "execute_result"
    }
   ],
   "source": [
    "password = \"aabbccbc\"\n",
    "\n",
    "doubled = False\n",
    "double_characters = 0\n",
    "idx = 0\n",
    "while idx < len(password)-1:\n",
    "    print(password[idx], password[idx+1])\n",
    "    if (password[idx] == password[idx+1]):\n",
    "        double_characters += 1\n",
    "        idx += 2\n",
    "    else:\n",
    "        idx += 1\n",
    "if double_characters > 0:\n",
    "    doubled = True\n",
    "\n",
    "doubled"
   ]
  }
 ],
 "metadata": {
  "kernelspec": {
   "display_name": "Python 3",
   "language": "python",
   "name": "python3"
  },
  "language_info": {
   "codemirror_mode": {
    "name": "ipython",
    "version": 3
   },
   "file_extension": ".py",
   "mimetype": "text/x-python",
   "name": "python",
   "nbconvert_exporter": "python",
   "pygments_lexer": "ipython3",
   "version": "3.9.6"
  }
 },
 "nbformat": 4,
 "nbformat_minor": 2
}
